{
 "cells": [
  {
   "cell_type": "markdown",
   "id": "9d181797",
   "metadata": {},
   "source": [
    "# A) Define Data Analytics? Explain variable, measurement and data. Why data is important?"
   ]
  },
  {
   "cell_type": "markdown",
   "id": "8fe03129",
   "metadata": {},
   "source": [
    "# B) Write a Python code to perform following array operations using numpy library.\n",
    "Arrays: A=[1,2,3,4,5], B=[6,7,8,9,10]\n",
    "<ul>\n",
    "    <li>Perform basic arithmetic operations on two arrays</li>\n",
    "    <li>Find min, max, square root, exponential of given array elements</li>\n",
    "    <li>Find mean, exp, std deviation of given array</li>\n",
    "    </ul>"
   ]
  },
  {
   "cell_type": "markdown",
   "id": "f27e0d1b",
   "metadata": {},
   "source": [
    "<h1>A)</h1>\n",
    "<b>Data Analytics: </b> <i>Scientific process of transforming data into insights for making better decisions<i>\n",
    "   <p>It's of 4 types <ul>\n",
    "    <li>Descriptive</li>\n",
    "    <li>Diagosnitc</li>\n",
    "    <li>predictive</li>\n",
    "    <li>Prescreptive</li>\n",
    "    </ul>\n",
    "   </p>\n",
    "<img src=\"https://i0.wp.com/tommarch.com/wp-content/uploads/2020/01/Data-Analytics.001-1.jpeg?ssl=1\"/>"
   ]
  },
  {
   "cell_type": "code",
   "execution_count": null,
   "id": "51c37dd6",
   "metadata": {},
   "outputs": [],
   "source": []
  }
 ],
 "metadata": {
  "kernelspec": {
   "display_name": "Python 3 (ipykernel)",
   "language": "python",
   "name": "python3"
  },
  "language_info": {
   "codemirror_mode": {
    "name": "ipython",
    "version": 3
   },
   "file_extension": ".py",
   "mimetype": "text/x-python",
   "name": "python",
   "nbconvert_exporter": "python",
   "pygments_lexer": "ipython3",
   "version": "3.9.18"
  }
 },
 "nbformat": 4,
 "nbformat_minor": 5
}
