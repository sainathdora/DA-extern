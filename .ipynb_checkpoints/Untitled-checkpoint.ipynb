{
 "cells": [
  {
   "cell_type": "markdown",
   "id": "942a5e50",
   "metadata": {},
   "source": [
    "# A) Define Data Analytics? Explain variable, measurement and data. Why data is important?"
   ]
  },
  {
   "cell_type": "markdown",
   "id": "b15f4809",
   "metadata": {},
   "source": [
    "# B) Write a Python code to perform following array operations using numpy library.\n",
    "Arrays: A=[1,2,3,4,5], B=[6,7,8,9,10]\n",
    "<ul>\n",
    "    <li>Perform basic arithmetic operations on two arrays</li>\n",
    "    <li>Find min, max, square root, exponential of given array elements</li>\n",
    "    <li>Find mean, exp, std deviation of given array</li>\n",
    "    </ul>"
   ]
  },
  {
   "cell_type": "code",
   "execution_count": null,
   "id": "1b4f0e64",
   "metadata": {},
   "outputs": [],
   "source": []
  }
 ],
 "metadata": {
  "kernelspec": {
   "display_name": "Python 3 (ipykernel)",
   "language": "python",
   "name": "python3"
  },
  "language_info": {
   "codemirror_mode": {
    "name": "ipython",
    "version": 3
   },
   "file_extension": ".py",
   "mimetype": "text/x-python",
   "name": "python",
   "nbconvert_exporter": "python",
   "pygments_lexer": "ipython3",
   "version": "3.9.18"
  }
 },
 "nbformat": 4,
 "nbformat_minor": 5
}
