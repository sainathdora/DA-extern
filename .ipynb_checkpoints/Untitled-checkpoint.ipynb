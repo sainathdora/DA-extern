{
 "cells": [
  {
   "cell_type": "markdown",
   "id": "e45ef894",
   "metadata": {},
   "source": [
    "# A) Define Data Analytics? Explain variable, measurement and data. Why data is important?"
   ]
  },
  {
   "cell_type": "markdown",
   "id": "c79765ee",
   "metadata": {},
   "source": [
    "# B) Write a Python code to perform following array operations using numpy library.\n",
    "Arrays: A=[1,2,3,4,5], B=[6,7,8,9,10]\n",
    "<ul>\n",
    "    <li>Perform basic arithmetic operations on two arrays</li>\n",
    "    <li>Find min, max, square root, exponential of given array elements</li>\n",
    "    <li>Find mean, exp, std deviation of given array</li>\n",
    "    </ul>"
   ]
  },
  {
   "cell_type": "markdown",
   "id": "5e540aea",
   "metadata": {},
   "source": [
    "<h1>A)</h1>\n",
    "<b>Data Analytics: </b> <i>Scientific process of transforming data into insights for making better decisions<i>\n",
    "   <p>It's of 4 types <ul>\n",
    "    <li>Descriptive</li>\n",
    "    <li>Diagosnitc</li>\n",
    "    <li>predictive</li>\n",
    "    <li>Prescreptive</li>\n",
    "    </ul>\n",
    "   </p>\n",
    "<img src=\"https://i0.wp.com/tommarch.com/wp-content/uploads/2020/01/Data-Analytics.001-1.jpeg?ssl=1\" height=\"600\" width=\"600\"/>"
   ]
  },
  {
   "cell_type": "code",
   "execution_count": 1,
   "id": "d639932a",
   "metadata": {},
   "outputs": [],
   "source": [
    "import numpy as np\n",
    "import pandas as pd \n",
    "import matplotlib.pyplot as plt"
   ]
  },
  {
   "cell_type": "code",
   "execution_count": 4,
   "id": "113ea8bc",
   "metadata": {},
   "outputs": [
    {
     "name": "stdout",
     "output_type": "stream",
     "text": [
      "add =  [ 7  9 11 13 15]\n",
      "sub =  [-5 -5 -5 -5 -5]\n",
      "mul =  [ 7  9 11 13 15]\n",
      "div =  [ 7  9 11 13 15]\n",
      "min =  1\n",
      "max =  5\n",
      "square root =  [1.         1.41421356 1.73205081 2.         2.23606798]\n",
      "exp =  [  2.71828183   7.3890561   20.08553692  54.59815003 148.4131591 ]\n"
     ]
    }
   ],
   "source": [
    "A=np.array([1,2,3,4,5])\n",
    "B=np.array([6,7,8,9,10])\n",
    "# Basic operations\n",
    "print(\"add = \", A+B)\n",
    "print(\"sub = \", A-B)\n",
    "print(\"mul = \", A+B)\n",
    "print(\"div = \", A+B)\n",
    "# Find min, max, square root, exponential of given array elements\n",
    "print(\"min = \", np.min(A))\n",
    "print(\"max = \", np.max(A))\n",
    "print(\"square root = \", np.sqrt(A))\n",
    "print(\"exp = \", np.exp(A))"
   ]
  },
  {
   "cell_type": "code",
   "execution_count": null,
   "id": "00ac8f85",
   "metadata": {},
   "outputs": [],
   "source": []
  }
 ],
 "metadata": {
  "kernelspec": {
   "display_name": "Python 3 (ipykernel)",
   "language": "python",
   "name": "python3"
  },
  "language_info": {
   "codemirror_mode": {
    "name": "ipython",
    "version": 3
   },
   "file_extension": ".py",
   "mimetype": "text/x-python",
   "name": "python",
   "nbconvert_exporter": "python",
   "pygments_lexer": "ipython3",
   "version": "3.9.18"
  }
 },
 "nbformat": 4,
 "nbformat_minor": 5
}
